{
  "nbformat": 4,
  "nbformat_minor": 0,
  "metadata": {
    "colab": {
      "provenance": [],
      "authorship_tag": "ABX9TyMirPJwl6NxQYCosz2tJfYt",
      "include_colab_link": true
    },
    "kernelspec": {
      "name": "python3",
      "display_name": "Python 3"
    },
    "language_info": {
      "name": "python"
    }
  },
  "cells": [
    {
      "cell_type": "markdown",
      "metadata": {
        "id": "view-in-github",
        "colab_type": "text"
      },
      "source": [
        "<a href=\"https://colab.research.google.com/github/SamuG315/Act1_Extraccion_Datos/blob/main/Act1_Extraccion_Datos.ipynb\" target=\"_parent\"><img src=\"https://colab.research.google.com/assets/colab-badge.svg\" alt=\"Open In Colab\"/></a>"
      ]
    },
    {
      "cell_type": "code",
      "execution_count": 1,
      "metadata": {
        "id": "eD6DmchgfsuX"
      },
      "outputs": [],
      "source": [
        "#Importamos librerías requeridas\n",
        "import pandas as pd\n",
        "import numpy as np\n",
        "import matplotlib.pyplot as plt\n",
        "import seaborn as sns"
      ]
    },
    {
      "cell_type": "code",
      "source": [
        "#Cargar archivo csv desde equipo\n",
        "from google.colab import files\n",
        "files.upload()"
      ],
      "metadata": {
        "id": "LMVh_UJOf7iQ"
      },
      "execution_count": null,
      "outputs": []
    },
    {
      "cell_type": "code",
      "source": [
        "#Convertir en dataframe\n",
        "df= pd.read_csv(\"CountryTable.csv\")\n",
        "#df"
      ],
      "metadata": {
        "id": "r125ou-lgqZd"
      },
      "execution_count": 30,
      "outputs": []
    },
    {
      "cell_type": "code",
      "source": [
        "#Imprimimos las primeras filas o registros del Dataframe\n",
        "df.head(5)"
      ],
      "metadata": {
        "id": "ZS0QYVEIgt-t"
      },
      "execution_count": null,
      "outputs": []
    },
    {
      "cell_type": "code",
      "source": [
        "#Filtro por objeto\n",
        "filtro1=df[df[\"continent\"] == \"Africa\"]\n",
        "filtro1"
      ],
      "metadata": {
        "id": "VxHb6Dlrgv50"
      },
      "execution_count": null,
      "outputs": []
    },
    {
      "cell_type": "code",
      "source": [
        "# Filtrar por rango de filas (por ejemplo, filas 10 a 15)\n",
        "filtro_filas = df.iloc[10:16, :]\n",
        "print(filtro_filas)"
      ],
      "metadata": {
        "id": "D02eiJNBh7eA"
      },
      "execution_count": null,
      "outputs": []
    },
    {
      "cell_type": "code",
      "source": [
        "#Filtro por columnas\n",
        "#filtro3=df.iloc[ : , 4:7]\n",
        "filtro3=df.iloc[ : , [1,4,6]]  #columnas no consecutivas\n",
        "filtro3"
      ],
      "metadata": {
        "id": "p-GQxSEEh9f_"
      },
      "execution_count": null,
      "outputs": []
    },
    {
      "cell_type": "code",
      "source": [
        "df= pd.read_csv(\"CountryTable.csv\", index_col=2)\n",
        "df"
      ],
      "metadata": {
        "id": "7wSkzXyCh_fT"
      },
      "execution_count": null,
      "outputs": []
    },
    {
      "cell_type": "code",
      "source": [
        "#Paso 2: Aplicamos Filtro de filas vs columnas\n",
        "filtro4=df.loc[[\"Africa\",\"Europe\"], [\"surface_area\"]]\n",
        "filtro4"
      ],
      "metadata": {
        "id": "ukLMZte6iAbg"
      },
      "execution_count": null,
      "outputs": []
    },
    {
      "cell_type": "code",
      "source": [
        "#Filtro por cabecera\n",
        "filtro5=df.head(10)\n",
        "filtro5"
      ],
      "metadata": {
        "id": "SVS5dwariD5D"
      },
      "execution_count": null,
      "outputs": []
    },
    {
      "cell_type": "markdown",
      "source": [
        " **FILTROS BASICOS PARA VARIABLES CUANTITATIVAS**"
      ],
      "metadata": {
        "id": "mw5qvRmAiJY3"
      }
    },
    {
      "cell_type": "code",
      "source": [
        "#Filtro por comparacion\n",
        "filtro6=df[df[\"population\"] > 78000]\n",
        "filtro6"
      ],
      "metadata": {
        "id": "D0GUkn4qiMYQ"
      },
      "execution_count": null,
      "outputs": []
    },
    {
      "cell_type": "markdown",
      "source": [
        "**FILTROS BASICOS CON CONETORES LOGICOS**"
      ],
      "metadata": {
        "id": "VsIfAnELiUVf"
      }
    },
    {
      "cell_type": "code",
      "source": [
        "#Filtro Y\n",
        "filtro7=df[(df[\"population\"] > 78000) & (df[\"continent\"] == \"Africa\")]\n",
        "filtro7"
      ],
      "metadata": {
        "id": "ugdWcksDiV3V"
      },
      "execution_count": null,
      "outputs": []
    },
    {
      "cell_type": "code",
      "source": [
        "#Filtro o\n",
        "filtro8=df[(df[\"population\"] > 78000) | (df[\"continent\"] == \"Africa\")]\n",
        "filtro8"
      ],
      "metadata": {
        "id": "3bXtOxZxiYWb"
      },
      "execution_count": null,
      "outputs": []
    },
    {
      "cell_type": "code",
      "source": [
        "#Filtro not\n",
        "filtro9=df[~(df[\"population\"] >= 78000) & ~(df[\"continent\"] == \"Africa\")]\n",
        "filtro9"
      ],
      "metadata": {
        "id": "stNyzL4IiaUS"
      },
      "execution_count": null,
      "outputs": []
    },
    {
      "cell_type": "code",
      "source": [
        "#Convertir archivo filtrado a CSV\n",
        "filtro9.to_csv(\"Act1_Extraccion_Datos.csv\")"
      ],
      "metadata": {
        "id": "OFhfK5Kjidt4"
      },
      "execution_count": 37,
      "outputs": []
    },
    {
      "cell_type": "code",
      "source": [
        "#descargar archivo filtrado en csv\n",
        "from google.colab import files\n",
        "\n",
        "\n",
        "files.download(\"Act1_Extraccion_Datos.csv\")"
      ],
      "metadata": {
        "colab": {
          "base_uri": "https://localhost:8080/",
          "height": 17
        },
        "id": "5nxNhZMDilbv",
        "outputId": "457834db-6e94-4eab-a937-38798bd606ac"
      },
      "execution_count": 38,
      "outputs": [
        {
          "output_type": "display_data",
          "data": {
            "text/plain": [
              "<IPython.core.display.Javascript object>"
            ],
            "application/javascript": [
              "\n",
              "    async function download(id, filename, size) {\n",
              "      if (!google.colab.kernel.accessAllowed) {\n",
              "        return;\n",
              "      }\n",
              "      const div = document.createElement('div');\n",
              "      const label = document.createElement('label');\n",
              "      label.textContent = `Downloading \"${filename}\": `;\n",
              "      div.appendChild(label);\n",
              "      const progress = document.createElement('progress');\n",
              "      progress.max = size;\n",
              "      div.appendChild(progress);\n",
              "      document.body.appendChild(div);\n",
              "\n",
              "      const buffers = [];\n",
              "      let downloaded = 0;\n",
              "\n",
              "      const channel = await google.colab.kernel.comms.open(id);\n",
              "      // Send a message to notify the kernel that we're ready.\n",
              "      channel.send({})\n",
              "\n",
              "      for await (const message of channel.messages) {\n",
              "        // Send a message to notify the kernel that we're ready.\n",
              "        channel.send({})\n",
              "        if (message.buffers) {\n",
              "          for (const buffer of message.buffers) {\n",
              "            buffers.push(buffer);\n",
              "            downloaded += buffer.byteLength;\n",
              "            progress.value = downloaded;\n",
              "          }\n",
              "        }\n",
              "      }\n",
              "      const blob = new Blob(buffers, {type: 'application/binary'});\n",
              "      const a = document.createElement('a');\n",
              "      a.href = window.URL.createObjectURL(blob);\n",
              "      a.download = filename;\n",
              "      div.appendChild(a);\n",
              "      a.click();\n",
              "      div.remove();\n",
              "    }\n",
              "  "
            ]
          },
          "metadata": {}
        },
        {
          "output_type": "display_data",
          "data": {
            "text/plain": [
              "<IPython.core.display.Javascript object>"
            ],
            "application/javascript": [
              "download(\"download_295a8236-f1c2-46bc-9764-3f2d28a18f2c\", \"Act1_Extraccion_Datos.csv\", 5289)"
            ]
          },
          "metadata": {}
        }
      ]
    }
  ]
}